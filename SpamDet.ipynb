{
 "cells": [
  {
   "cell_type": "markdown",
   "id": "5a75807c",
   "metadata": {},
   "source": [
    "# Laboratorio : Detección de Spam"
   ]
  },
  {
   "cell_type": "code",
   "execution_count": 59,
   "id": "78b88ac4",
   "metadata": {},
   "outputs": [
    {
     "name": "stderr",
     "output_type": "stream",
     "text": [
      "[nltk_data] Downloading package stopwords to\n",
      "[nltk_data]     C:\\Users\\olive\\AppData\\Roaming\\nltk_data...\n",
      "[nltk_data]   Package stopwords is already up-to-date!\n",
      "[nltk_data] Downloading package punkt to\n",
      "[nltk_data]     C:\\Users\\olive\\AppData\\Roaming\\nltk_data...\n",
      "[nltk_data]   Package punkt is already up-to-date!\n"
     ]
    }
   ],
   "source": [
    "#Importar las librerías\n",
    "import pandas as pd\n",
    "import nltk\n",
    "import unidecode\n",
    "nltk.download('stopwords')\n",
    "nltk.download('punkt')\n",
    "from nltk.corpus import stopwords\n",
    "from nltk.tokenize import word_tokenize\n"
   ]
  },
  {
   "cell_type": "markdown",
   "id": "46cae262",
   "metadata": {},
   "source": [
    "## Parte 1: Ingeniería de características"
   ]
  },
  {
   "cell_type": "markdown",
   "id": "a7eb6a2d",
   "metadata": {},
   "source": [
    "### Exploración de Datos"
   ]
  },
  {
   "cell_type": "code",
   "execution_count": 60,
   "id": "65d662f2",
   "metadata": {},
   "outputs": [
    {
     "name": "stdout",
     "output_type": "stream",
     "text": [
      "-------D-A-T-A-S-E-T--1-------\n",
      "    Unnamed: 0                                               Body  Label\n",
      "0           0  \\nSave up to 70% on Life Insurance.\\nWhy Spend...      1\n",
      "1           1  1) Fight The Risk of Cancer!\\nhttp://www.adcli...      1\n",
      "2           2  1) Fight The Risk of Cancer!\\nhttp://www.adcli...      1\n",
      "3           3  ##############################################...      1\n",
      "4           4  I thought you might like these:\\n1) Slim Down ...      1 \n",
      "-------------------------------------\n",
      "-------D-A-T-A-S-E-T--2-------\n",
      "    Unnamed: 0.1  Unnamed: 0  \\\n",
      "0          2469        2469   \n",
      "1          5063        5063   \n",
      "2         12564       12564   \n",
      "3          2796        2796   \n",
      "4          1468        1468   \n",
      "\n",
      "                                                Body  Label  \n",
      "0  Subject: stock promo mover : cwtd\\n * * * urge...      1  \n",
      "1  Subject: are you listed in major search engine...      1  \n",
      "2  Subject: important information thu , 30 jun 20...      1  \n",
      "3  Subject: = ? utf - 8 ? q ? bask your life with...      1  \n",
      "4  Subject: \" bidstogo \" is places to go , things...      1   \n",
      "-------------------------------------\n"
     ]
    }
   ],
   "source": [
    "## Cargar el dataset proporcionado\n",
    "ds1 = pd.read_csv('completeSpamAssassin.csv')\n",
    "ds2 = pd.read_csv('enronSpamSubset.csv')\n",
    "\n",
    "print('-------D-A-T-A-S-E-T--1-------\\n', ds1.head(), '\\n-------------------------------------')\n",
    "print('-------D-A-T-A-S-E-T--2-------\\n', ds2.head(), '\\n-------------------------------------')\n",
    "\n"
   ]
  },
  {
   "cell_type": "code",
   "execution_count": 61,
   "id": "4255adb7",
   "metadata": {},
   "outputs": [
    {
     "name": "stdout",
     "output_type": "stream",
     "text": [
      "-------D-A-T-A-S-E-T--F-I-N-A-L-------\n",
      "                                                 Body  Label\n",
      "0  \\nSave up to 70% on Life Insurance.\\nWhy Spend...      1\n",
      "1  1) Fight The Risk of Cancer!\\nhttp://www.adcli...      1\n",
      "2  1) Fight The Risk of Cancer!\\nhttp://www.adcli...      1\n",
      "3  ##############################################...      1\n",
      "4  I thought you might like these:\\n1) Slim Down ...      1 \n",
      "-------------------------------------\n"
     ]
    }
   ],
   "source": [
    "# Unificación de tablas\n",
    "\n",
    "# Limpieza dataset 1\n",
    "columns = list(ds1)\n",
    "columns.pop(0)\n",
    "ds1 = ds1[columns]\n",
    "\n",
    "# Limpieza dataset 2\n",
    "columns = list([0,1])\n",
    "ds2.drop(ds2.columns[[i for i in columns]], axis=1, inplace=True)\n",
    "\n",
    "# Concatenación de datasets\n",
    "df = pd.concat([ds1, ds2])\n",
    "df = df.reset_index(drop=True)\n",
    "print('-------D-A-T-A-S-E-T--F-I-N-A-L-------\\n', df.head(), '\\n-------------------------------------')\n"
   ]
  },
  {
   "cell_type": "markdown",
   "id": "46146657",
   "metadata": {},
   "source": [
    "### Preprocesamiento"
   ]
  },
  {
   "cell_type": "code",
   "execution_count": 62,
   "id": "3ac4eaac",
   "metadata": {},
   "outputs": [],
   "source": [
    "def preprocessing(text):\n",
    "    \n",
    "    # Convierte todo a str\n",
    "    if type(text) in [float, int]:\n",
    "        text = str(text)\n",
    "    elif type(text) != str:\n",
    "        return None\n",
    "    \n",
    "    # Todo en minúsculas\n",
    "    text = text.lower()\n",
    "    # Remueve acentos\n",
    "    text = unidecode.unidecode(text)\n",
    "    \n",
    "    # Tokeniza el texto en palabras\n",
    "    words = nltk.word_tokenize(text)\n",
    "    # Elimina stop words del texto\n",
    "    stop_words = set(stopwords.words(\"english\"))\n",
    "    \n",
    "    # Unifica el texto filtrado\n",
    "    filtered_words = [word for word in words if word not in stop_words]\n",
    "    filtered_text = \" \".join(filtered_words)\n",
    "    \n",
    "    return filtered_text"
   ]
  },
  {
   "cell_type": "code",
   "execution_count": 63,
   "id": "6c31f432",
   "metadata": {},
   "outputs": [
    {
     "name": "stdout",
     "output_type": "stream",
     "text": [
      "                                                    Body  Label\n",
      "13069  : access block : international transmission au...      0\n",
      "5568   tue , jul 30 , 2002 12:17:21am +0300 , ville s...      0\n",
      "7320   : ' beat em , join em * gobbledygook . squamou...      1\n",
      "270                                                empty      1\n",
      "1892                                               empty      1\n"
     ]
    }
   ],
   "source": [
    "# Aplicación de las funciones construídas\n",
    "\n",
    "df['Body'] = df['Body'].apply(preprocessing)\n",
    "df.to_csv('text_filtered.csv', index=False)\n",
    "print(df.sample(n=5).head())"
   ]
  }
 ],
 "metadata": {
  "kernelspec": {
   "display_name": "Python 3 (ipykernel)",
   "language": "python",
   "name": "python3"
  },
  "language_info": {
   "codemirror_mode": {
    "name": "ipython",
    "version": 3
   },
   "file_extension": ".py",
   "mimetype": "text/x-python",
   "name": "python",
   "nbconvert_exporter": "python",
   "pygments_lexer": "ipython3",
   "version": "3.10.10"
  }
 },
 "nbformat": 4,
 "nbformat_minor": 5
}
